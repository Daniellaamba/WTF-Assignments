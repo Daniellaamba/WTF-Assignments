{
 "cells": [
  {
   "cell_type": "markdown",
   "id": "c7d27345",
   "metadata": {},
   "source": [
    "1) Write a NumPy program to get help on the add function.\n",
    "\n",
    "2) Write a NumPy program to create an array with values ranging from 12 to 38.\n",
    "\n",
    "3) Write a NumPy program to create a 3x3 matrix with values ranging from 2 to 10.\n",
    "\n",
    "4) Write a NumPy program to create a 2d array with 1 on the border and 0 inside.\n",
    "\n",
    "5) Write a NumPy program to append values to the end of an array.\n",
    "\n",
    "6) Write a NumPy program to generate five random numbers from the normal\n",
    "distribution.\n",
    "\n",
    "7) Write a NumPy program to get the n largest values of an array."
   ]
  },
  {
   "cell_type": "markdown",
   "id": "421e3cb2",
   "metadata": {},
   "source": [
    "**Q1:Write a NumPy program to get help on the add function**"
   ]
  },
  {
   "cell_type": "code",
   "execution_count": 1,
   "id": "e3efda16",
   "metadata": {
    "scrolled": true
   },
   "outputs": [
    {
     "name": "stdout",
     "output_type": "stream",
     "text": [
      "add(x1, x2, /, out=None, *, where=True, casting='same_kind', order='K', dtype=None, subok=True[, signature, extobj])\n",
      "\n",
      "Add arguments element-wise.\n",
      "\n",
      "Parameters\n",
      "----------\n",
      "x1, x2 : array_like\n",
      "    The arrays to be added.\n",
      "    If ``x1.shape != x2.shape``, they must be broadcastable to a common\n",
      "    shape (which becomes the shape of the output).\n",
      "out : ndarray, None, or tuple of ndarray and None, optional\n",
      "    A location into which the result is stored. If provided, it must have\n",
      "    a shape that the inputs broadcast to. If not provided or None,\n",
      "    a freshly-allocated array is returned. A tuple (possible only as a\n",
      "    keyword argument) must have length equal to the number of outputs.\n",
      "where : array_like, optional\n",
      "    This condition is broadcast over the input. At locations where the\n",
      "    condition is True, the `out` array will be set to the ufunc result.\n",
      "    Elsewhere, the `out` array will retain its original value.\n",
      "    Note that if an uninitialized `out` array is created via the default\n",
      "    ``out=None``, locations within it where the condition is False will\n",
      "    remain uninitialized.\n",
      "**kwargs\n",
      "    For other keyword-only arguments, see the\n",
      "    :ref:`ufunc docs <ufuncs.kwargs>`.\n",
      "\n",
      "Returns\n",
      "-------\n",
      "add : ndarray or scalar\n",
      "    The sum of `x1` and `x2`, element-wise.\n",
      "    This is a scalar if both `x1` and `x2` are scalars.\n",
      "\n",
      "Notes\n",
      "-----\n",
      "Equivalent to `x1` + `x2` in terms of array broadcasting.\n",
      "\n",
      "Examples\n",
      "--------\n",
      ">>> np.add(1.0, 4.0)\n",
      "5.0\n",
      ">>> x1 = np.arange(9.0).reshape((3, 3))\n",
      ">>> x2 = np.arange(3.0)\n",
      ">>> np.add(x1, x2)\n",
      "array([[  0.,   2.,   4.],\n",
      "       [  3.,   5.,   7.],\n",
      "       [  6.,   8.,  10.]])\n",
      "\n",
      "The ``+`` operator can be used as a shorthand for ``np.add`` on ndarrays.\n",
      "\n",
      ">>> x1 = np.arange(9.0).reshape((3, 3))\n",
      ">>> x2 = np.arange(3.0)\n",
      ">>> x1 + x2\n",
      "array([[ 0.,  2.,  4.],\n",
      "       [ 3.,  5.,  7.],\n",
      "       [ 6.,  8., 10.]])\n",
      "None\n"
     ]
    }
   ],
   "source": [
    "import numpy as np\n",
    "print(np.info(np.add))"
   ]
  },
  {
   "cell_type": "markdown",
   "id": "347acd6b",
   "metadata": {},
   "source": [
    "**Q2:Write a NumPy program to create an array with values ranging from 12 to 38.**\n"
   ]
  },
  {
   "cell_type": "code",
   "execution_count": 2,
   "id": "b90a847a",
   "metadata": {},
   "outputs": [
    {
     "name": "stdout",
     "output_type": "stream",
     "text": [
      "[12 13 14 15 16 17 18 19 20 21 22 23 24 25 26 27 28 29 30 31 32 33 34 35\n",
      " 36 37]\n"
     ]
    }
   ],
   "source": [
    "val = np.arange(12, 38)\n",
    "print(val)"
   ]
  },
  {
   "cell_type": "markdown",
   "id": "c924db20",
   "metadata": {},
   "source": [
    "**Q3: Write a NumPy program to create a 3x3 matrix with values ranging from 2 to 10.**"
   ]
  },
  {
   "cell_type": "code",
   "execution_count": 4,
   "id": "fd36cc6b",
   "metadata": {},
   "outputs": [
    {
     "data": {
      "text/plain": [
       "array([[ 2,  3,  4],\n",
       "       [ 5,  6,  7],\n",
       "       [ 8,  9, 10]])"
      ]
     },
     "execution_count": 4,
     "metadata": {},
     "output_type": "execute_result"
    }
   ],
   "source": [
    "np.arange(2,11).reshape((3,3))"
   ]
  },
  {
   "cell_type": "markdown",
   "id": "cae10089",
   "metadata": {},
   "source": [
    "**Q4: Write a NumPy program to create a 2d array with 1 on the border and 0 inside**"
   ]
  },
  {
   "cell_type": "code",
   "execution_count": 5,
   "id": "c0e821a0",
   "metadata": {},
   "outputs": [
    {
     "name": "stdout",
     "output_type": "stream",
     "text": [
      "Original array:\n",
      "[[1. 1. 1.]\n",
      " [1. 1. 1.]\n",
      " [1. 1. 1.]]\n",
      "1 on the border and 0 inside in the array\n",
      "[[1. 1. 1.]\n",
      " [1. 0. 1.]\n",
      " [1. 1. 1.]]\n"
     ]
    }
   ],
   "source": [
    "arr = np.ones((3,3))\n",
    "print(\"Original array:\")\n",
    "print(arr)\n",
    "print(\"1 on the border and 0 inside in the array\")\n",
    "arr[1:-1,1:-1] = 0\n",
    "print(arr)"
   ]
  },
  {
   "cell_type": "markdown",
   "id": "6119bce7",
   "metadata": {},
   "source": [
    "**Q5: Write a NumPy program to append values to the end of an array.**"
   ]
  },
  {
   "cell_type": "code",
   "execution_count": 7,
   "id": "664027b8",
   "metadata": {},
   "outputs": [
    {
     "name": "stdout",
     "output_type": "stream",
     "text": [
      "[ 1  2  3  4  5  6  7  8  9 10 11 12]\n"
     ]
    }
   ],
   "source": [
    "arr1=np.array([[1, 2, 3], [4, 5, 6]])  \n",
    "arr2=np.array([[7, 8, 9], [10, 11, 12]])  \n",
    "arr3=np.append(arr1, arr2)  \n",
    "print(arr3) "
   ]
  },
  {
   "cell_type": "markdown",
   "id": "d9ff007b",
   "metadata": {},
   "source": [
    "**Q6: Write a NumPy program to generate five random numbers from the normal\n",
    "distribution**"
   ]
  },
  {
   "cell_type": "code",
   "execution_count": 8,
   "id": "d8227adc",
   "metadata": {},
   "outputs": [
    {
     "data": {
      "text/plain": [
       "array([0.98243538, 0.11515455, 0.83685419, 0.42743972, 0.99922251])"
      ]
     },
     "execution_count": 8,
     "metadata": {},
     "output_type": "execute_result"
    }
   ],
   "source": [
    "np.random.rand(5)"
   ]
  },
  {
   "cell_type": "markdown",
   "id": "868c3483",
   "metadata": {},
   "source": [
    "**Q7: Write a NumPy program to get the n largest values of an array**"
   ]
  },
  {
   "cell_type": "code",
   "execution_count": 9,
   "id": "0cda1e61",
   "metadata": {},
   "outputs": [
    {
     "data": {
      "text/plain": [
       "100"
      ]
     },
     "execution_count": 9,
     "metadata": {},
     "output_type": "execute_result"
    }
   ],
   "source": [
    "scores = np.array([100,67,92,87,66,89,76,22])\n",
    "scores.max()"
   ]
  },
  {
   "cell_type": "code",
   "execution_count": null,
   "id": "bd4618c7",
   "metadata": {},
   "outputs": [],
   "source": []
  }
 ],
 "metadata": {
  "kernelspec": {
   "display_name": "Python 3 (ipykernel)",
   "language": "python",
   "name": "python3"
  },
  "language_info": {
   "codemirror_mode": {
    "name": "ipython",
    "version": 3
   },
   "file_extension": ".py",
   "mimetype": "text/x-python",
   "name": "python",
   "nbconvert_exporter": "python",
   "pygments_lexer": "ipython3",
   "version": "3.9.12"
  }
 },
 "nbformat": 4,
 "nbformat_minor": 5
}
