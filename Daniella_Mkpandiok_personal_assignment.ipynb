{
 "cells": [
  {
   "cell_type": "raw",
   "metadata": {},
   "source": [
    "#1 Print all elements of a list using for loop\n"
   ]
  },
  {
   "cell_type": "code",
   "execution_count": 9,
   "metadata": {},
   "outputs": [
    {
     "name": "stdout",
     "output_type": "stream",
     "text": [
      "1\n",
      "3\n",
      "12\n",
      "45\n",
      "sex\n",
      "gender\n"
     ]
    }
   ],
   "source": [
    "numbers = [1, 3, 12, 45, \"sex\", \"gender\"]\n",
    "for items in numbers:\n",
    "    print(items)"
   ]
  },
  {
   "cell_type": "raw",
   "metadata": {},
   "source": [
    "#2 A company decided to give bonus of 5% to employee if his/her year of service is more than 5\n",
    "years. Ask user for their salary and year of service and print the net bonus amount."
   ]
  },
  {
   "cell_type": "code",
   "execution_count": 7,
   "metadata": {},
   "outputs": [
    {
     "name": "stdout",
     "output_type": "stream",
     "text": [
      "enter the year of service7\n",
      "input your salary500\n",
      "25.0\n"
     ]
    }
   ],
   "source": [
    "year_of_service = int(input(\"enter the year of service\"))\n",
    "salary = float(input(\"input your salary\"))\n",
    "if year_of_service > 5:\n",
    "    net_bonus = salary * 0.05\n",
    "    print(net_bonus)\n",
    "else:\n",
    "    print(salary)"
   ]
  },
  {
   "cell_type": "raw",
   "metadata": {},
   "source": [
    "#3 Take input of age of 3 people by user and determine oldest and youngest among them."
   ]
  },
  {
   "cell_type": "code",
   "execution_count": 14,
   "metadata": {},
   "outputs": [
    {
     "name": "stdout",
     "output_type": "stream",
     "text": [
      "Enter your age7\n",
      "Enter your age7\n",
      "Enter your age7\n",
      "User_1 is the oldest\n"
     ]
    }
   ],
   "source": [
    "age_1 =  int(input(\"Enter your age\"))\n",
    "age_2 =  int(input(\"Enter your age\"))\n",
    "age_3 =  int(input(\"Enter your age\"))\n",
    "if (age_1 >= age_2) and (age_1 >= age_3):\n",
    "    print(\"User_1 is the oldest\")\n",
    "elif age_2 >= age_1 and age_2 >= age_3:\n",
    "    print(\"User_2 is the oldest\")\n",
    "elif age_3 >= age_1 and age_3 >= age_2:\n",
    "    print(\"User_3 is the oldest\")\n",
    "else:\n",
    "    print(\"none is the oldest\")"
   ]
  },
  {
   "cell_type": "raw",
   "metadata": {},
   "source": [
    "#4 A school has following rules for grading system:\n",
    "a. Below 25 - F\n",
    "b. 25 to 45 - E\n",
    "c. 45 to 50 - D\n",
    "d. 50 to 60 - C\n",
    "e. 60 to 80 - B\n",
    "f. Above 80 - A"
   ]
  },
  {
   "cell_type": "code",
   "execution_count": 16,
   "metadata": {},
   "outputs": [
    {
     "name": "stdout",
     "output_type": "stream",
     "text": [
      "Enter your marks23\n",
      "F\n"
     ]
    }
   ],
   "source": [
    "marks = int(input(\"Enter your marks\"))\n",
    "if marks < 25:\n",
    "    print(\"F\")\n",
    "elif 25 < marks <= 45:\n",
    "    print(\"E\")\n",
    "elif 45 < marks <= 50:\n",
    "    print(\"D\")\n",
    "elif 50 < marks <= 60:\n",
    "    print(\"C\")\n",
    "elif 60 < marks <= 80:\n",
    "    print(\"B\")\n",
    "else:\n",
    "    print(\"A\")"
   ]
  },
  {
   "cell_type": "raw",
   "metadata": {},
   "source": [
    "#5 Write a Python script to merge two Python dictionaries"
   ]
  },
  {
   "cell_type": "code",
   "execution_count": 17,
   "metadata": {},
   "outputs": [
    {
     "name": "stdout",
     "output_type": "stream",
     "text": [
      "{'Oyo': 'Ibadan', 'Ogun': 'Abeokuta', 'Gongola': 'Yola', 'Ibadan': 'Oluyole', 'Abeokuta': 'Abeokuta South'}\n"
     ]
    }
   ],
   "source": [
    "Dictionary1 = {\"Oyo\" :\"Ibadan\", \"Ogun\":\"Abeokuta\", \"Gongola\" :\"Yola\" }\n",
    "Dictionary2 = {\"Ibadan\":\"Oluyole\", \"Abeokuta\":\"Abeokuta South\"}\n",
    "Dictionary1.update(Dictionary2)\n",
    "print(Dictionary1)"
   ]
  },
  {
   "cell_type": "raw",
   "metadata": {},
   "source": [
    "#6 Write a python program to get the largest number from a list"
   ]
  },
  {
   "cell_type": "code",
   "execution_count": 23,
   "metadata": {},
   "outputs": [
    {
     "name": "stdout",
     "output_type": "stream",
     "text": [
      "50\n"
     ]
    }
   ],
   "source": [
    "numbers = [2, 6, 8, 10, 15, 50]\n",
    "largest_number =max(numbers)\n",
    "print(largest_number)"
   ]
  },
  {
   "cell_type": "raw",
   "metadata": {},
   "source": [
    "#7 Write a python program to remove a key from a dictionary"
   ]
  },
  {
   "cell_type": "code",
   "execution_count": 31,
   "metadata": {},
   "outputs": [
    {
     "name": "stdout",
     "output_type": "stream",
     "text": [
      "dict_1 after poping {'Oyo': 'Ibadan', 'Crossriver': 'Calabar'}\n",
      "dict_2 key that was pop ('Plateau', ' Jos')\n"
     ]
    }
   ],
   "source": [
    "dict_1 = {\"Oyo\" : \"Ibadan\",\"Crossriver\" : \"Calabar\", \"Plateau\" : \" Jos\"}\n",
    "dict_2 = dict_1.popitem()\n",
    "print(\"dict_1 after poping\",dict_1)\n",
    "print(\"dict_2 key that was pop\", dict_2)"
   ]
  },
  {
   "cell_type": "code",
   "execution_count": null,
   "metadata": {},
   "outputs": [],
   "source": []
  }
 ],
 "metadata": {
  "kernelspec": {
   "display_name": "Python 3",
   "language": "python",
   "name": "python3"
  },
  "language_info": {
   "codemirror_mode": {
    "name": "ipython",
    "version": 3
   },
   "file_extension": ".py",
   "mimetype": "text/x-python",
   "name": "python",
   "nbconvert_exporter": "python",
   "pygments_lexer": "ipython3",
   "version": "3.7.4"
  }
 },
 "nbformat": 4,
 "nbformat_minor": 2
}
