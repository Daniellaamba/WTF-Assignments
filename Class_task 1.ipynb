{
 "cells": [
  {
   "cell_type": "code",
   "execution_count": 1,
   "metadata": {},
   "outputs": [
    {
     "name": "stdout",
     "output_type": "stream",
     "text": [
      "('tech4dev', True, 3.223, 1)\n"
     ]
    }
   ],
   "source": [
    " # 1. Write a Python program to create a tuple with different data types.\n",
    "tupe = (\"tech4dev\", True, 3.223, 1)\n",
    "print(tupe)"
   ]
  },
  {
   "cell_type": "code",
   "execution_count": 35,
   "metadata": {},
   "outputs": [
    {
     "name": "stdout",
     "output_type": "stream",
     "text": [
      "15\n"
     ]
    }
   ],
   "source": [
    "#write a python program to create a list with different data types\n",
    "Ages_of_students= [22, 19, 15, 20, 13]\n",
    "print(Ages_of_students[2])\n"
   ]
  },
  {
   "cell_type": "code",
   "execution_count": 32,
   "metadata": {},
   "outputs": [
    {
     "ename": "TypeError",
     "evalue": "'set' object is not subscriptable",
     "output_type": "error",
     "traceback": [
      "\u001b[1;31m---------------------------------------------------------------------------\u001b[0m",
      "\u001b[1;31mTypeError\u001b[0m                                 Traceback (most recent call last)",
      "\u001b[1;32m<ipython-input-32-9a23f4f5b8a8>\u001b[0m in \u001b[0;36m<module>\u001b[1;34m\u001b[0m\n\u001b[0;32m      1\u001b[0m \u001b[1;31m#Create a python dictionary\u001b[0m\u001b[1;33m\u001b[0m\u001b[1;33m\u001b[0m\u001b[1;33m\u001b[0m\u001b[0m\n\u001b[0;32m      2\u001b[0m \u001b[0mDictionary\u001b[0m \u001b[1;33m=\u001b[0m \u001b[1;33m{\u001b[0m\u001b[1;34m\"cars : Honda\"\u001b[0m\u001b[1;33m,\u001b[0m \u001b[1;34m\"furniture:Tables\"\u001b[0m\u001b[1;33m,\u001b[0m \u001b[1;34m\"attires: dresses\"\u001b[0m\u001b[1;33m}\u001b[0m\u001b[1;33m\u001b[0m\u001b[1;33m\u001b[0m\u001b[0m\n\u001b[1;32m----> 3\u001b[1;33m \u001b[0mprint\u001b[0m\u001b[1;33m(\u001b[0m\u001b[0mDictionary\u001b[0m\u001b[1;33m[\u001b[0m\u001b[1;36m0\u001b[0m\u001b[1;33m]\u001b[0m\u001b[1;33m)\u001b[0m\u001b[1;33m\u001b[0m\u001b[1;33m\u001b[0m\u001b[0m\n\u001b[0m",
      "\u001b[1;31mTypeError\u001b[0m: 'set' object is not subscriptable"
     ]
    }
   ],
   "source": [
    "#Create a python dictionary \n",
    "Dictionary = {\"cars : Honda\", \"furniture:Tables\", \"attires: dresses\"}\n",
    "print(Dictionary[0])\n"
   ]
  },
  {
   "cell_type": "code",
   "execution_count": 30,
   "metadata": {},
   "outputs": [
    {
     "name": "stdout",
     "output_type": "stream",
     "text": [
      "('Sade', 'Tope', 'Ngozi', 'Kola', 'Richard')\n"
     ]
    }
   ],
   "source": [
    "#create a tupel with names of students\n",
    "\n",
    "tupe = (\"Sade\", \"Tope\", \"Ngozi\", \"Kola\", \"Richard\")\n",
    "print (tupe)"
   ]
  },
  {
   "cell_type": "code",
   "execution_count": 18,
   "metadata": {},
   "outputs": [
    {
     "name": "stdout",
     "output_type": "stream",
     "text": [
      "0\n"
     ]
    }
   ],
   "source": [
    "# 2.  Write a Python program to create a tuple with numbers and print one item\n",
    "tupe1 = (23,45,67,123,90,12,2,0,1,7,)\n",
    "print(tupe1[-3])"
   ]
  },
  {
   "cell_type": "code",
   "execution_count": null,
   "metadata": {},
   "outputs": [],
   "source": [
    "#write a Python program to convert a tuple to a string\n",
    "\n"
   ]
  },
  {
   "cell_type": "code",
   "execution_count": 19,
   "metadata": {},
   "outputs": [
    {
     "name": "stdout",
     "output_type": "stream",
     "text": [
      "('red', 'blue', 'yellow', 'green', 'black', 'white', 'pink')\n"
     ]
    }
   ],
   "source": [
    "# 3. Write a Python program to create a tuple\n",
    "colors = ('red', 'blue', 'yellow', 'green', 'black', 'white', 'pink')\n",
    "print(colors)"
   ]
  },
  {
   "cell_type": "code",
   "execution_count": 20,
   "metadata": {},
   "outputs": [
    {
     "name": "stdout",
     "output_type": "stream",
     "text": [
      "classtask\n",
      " classtask\n"
     ]
    }
   ],
   "source": [
    "# 4. Write a Python program to convert a tuple to a string\n",
    "tupe2 = ('c', 'l', 'a', 's', 's', 't', 'a', 's', 'k')\n",
    "tupe2_str =  ''.join(tupe2)\n",
    "print(tupe2_str)\n",
    "\n",
    "# or\n",
    "tupe2 = ('c', 'l', 'a', 's', 's', 't', 'a', 's', 'k')\n",
    "tupe2_str = \" \"\n",
    "for item in tupe2:\n",
    "    tupe2_str = tupe2_str + item\n",
    "print(tupe2_str)"
   ]
  },
  {
   "cell_type": "code",
   "execution_count": 21,
   "metadata": {},
   "outputs": [
    {
     "name": "stdout",
     "output_type": "stream",
     "text": [
      "{'Nigera': 'Abuja', 'Ghana': 'Accra', 'Rwanda': 'Kigali', 'Kenya': 'Nairobi', 'zimbabwe': 'Harare'}\n"
     ]
    }
   ],
   "source": [
    "#5. Write a Python script to add a key to a dictionary\n",
    "mydict={\"Nigera\":\"Abuja\",\"Ghana\":\"Accra\",\"Rwanda\":\"Kigali\",\"Kenya\":\"Nairobi\"}\n",
    "mydict[\"zimbabwe\"]=\"Harare\"\n",
    "print(mydict)\n"
   ]
  },
  {
   "cell_type": "code",
   "execution_count": 2,
   "metadata": {},
   "outputs": [
    {
     "name": "stdout",
     "output_type": "stream",
     "text": [
      "{'Nigera': 'Abuja', 'Ghana': 'Accra', 'Rwanda': 'Kigali', 'Kenya': 'Nairobi', 'Mali': 'Bamako'}\n"
     ]
    }
   ],
   "source": [
    "#6. Write a Python script to merge two Python dictionaries\n",
    "mydict={\"Nigera\":\"Abuja\",\"Ghana\":\"Accra\",\"Rwanda\":\"Kigali\",\"Kenya\":\"Nairobi\"}\n",
    "mydict2={\"Mali\":\"Bamako\"}\n",
    "mydict.update(mydict2)\n",
    "print(mydict)"
   ]
  },
  {
   "cell_type": "markdown",
   "metadata": {},
   "source": [
    " #Write a Python script to merge two Python dictionaries\n",
    "mydict={\"Nigera\":\"Abuja\",\"Ghana\":\"Accra\",\"Rwanda\":\"Kigali\",\"Kenya\":\"Nairobi\"}\n",
    "mydict2={\"Mali\":\"Bamako\"}\n",
    "mydict[\" \".join(mydict2)]\n",
    "print(mydict)"
   ]
  },
  {
   "cell_type": "code",
   "execution_count": 42,
   "metadata": {},
   "outputs": [
    {
     "name": "stdout",
     "output_type": "stream",
     "text": [
      "215\n"
     ]
    }
   ],
   "source": [
    "#7.Write a Python program to sum all the items in a dictionary\n",
    "mydict={\"Nigera\":120,\"Ghana\":30,\"Rwanda\":15,\"Kenya\":50}\n",
    "sum_dict = sum(mydict.values())\n",
    "print(sum_dict)"
   ]
  },
  {
   "cell_type": "code",
   "execution_count": 3,
   "metadata": {},
   "outputs": [
    {
     "name": "stdout",
     "output_type": "stream",
     "text": [
      "215\n"
     ]
    }
   ],
   "source": [
    "#7.Write a Python program to sum all the items in a dictionary\n",
    "mydict={\"Nigera\":120,\"Ghana\":30,\"Rwanda\":15,\"Kenya\":50}\n",
    "print(sum(mydict.values()))"
   ]
  },
  {
   "cell_type": "code",
   "execution_count": null,
   "metadata": {},
   "outputs": [],
   "source": []
  }
 ],
 "metadata": {
  "kernelspec": {
   "display_name": "Python 3",
   "language": "python",
   "name": "python3"
  },
  "language_info": {
   "codemirror_mode": {
    "name": "ipython",
    "version": 3
   },
   "file_extension": ".py",
   "mimetype": "text/x-python",
   "name": "python",
   "nbconvert_exporter": "python",
   "pygments_lexer": "ipython3",
   "version": "3.7.4"
  }
 },
 "nbformat": 4,
 "nbformat_minor": 5
}
