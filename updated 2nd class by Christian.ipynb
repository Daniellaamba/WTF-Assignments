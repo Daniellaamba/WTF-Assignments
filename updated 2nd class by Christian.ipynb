{
 "cells": [
  {
   "cell_type": "code",
   "execution_count": 1,
   "id": "b749b5c1",
   "metadata": {},
   "outputs": [
    {
     "name": "stdout",
     "output_type": "stream",
     "text": [
      "9\n"
     ]
    }
   ],
   "source": [
    "a=5\n",
    "b=4\n",
    "print (a+b)"
   ]
  },
  {
   "cell_type": "code",
   "execution_count": 2,
   "id": "6f6d935f",
   "metadata": {},
   "outputs": [
    {
     "name": "stdout",
     "output_type": "stream",
     "text": [
      "54\n"
     ]
    }
   ],
   "source": [
    "a='5'\n",
    "b='4'\n",
    "print (a+b)"
   ]
  },
  {
   "cell_type": "code",
   "execution_count": 3,
   "id": "124ef4aa",
   "metadata": {},
   "outputs": [
    {
     "data": {
      "text/plain": [
       "['The', 'cow', 'jumped', 'over', 'the', 'moon', '.']"
      ]
     },
     "execution_count": 3,
     "metadata": {},
     "output_type": "execute_result"
    }
   ],
   "source": [
    "Data=\"The cow jumped over the moon . \"\n",
    "Data.split()"
   ]
  },
  {
   "cell_type": "code",
   "execution_count": 4,
   "id": "78314ec9",
   "metadata": {},
   "outputs": [
    {
     "data": {
      "text/plain": [
       "['The', 'cow', 'jumped', 'over the moon .']"
      ]
     },
     "execution_count": 4,
     "metadata": {},
     "output_type": "execute_result"
    }
   ],
   "source": [
    "Data=\"The cow jumped over the moon .\"\n",
    "Data.split(\" \",3)\n",
    "\n",
    "#split works with string "
   ]
  },
  {
   "cell_type": "code",
   "execution_count": 5,
   "id": "21dc0535",
   "metadata": {},
   "outputs": [
    {
     "data": {
      "text/plain": [
       "['The cow jumped over the moon .']"
      ]
     },
     "execution_count": 5,
     "metadata": {},
     "output_type": "execute_result"
    }
   ],
   "source": [
    "Data=\"The cow jumped over the moon .\"\n",
    "Data.split(\" \", 0)"
   ]
  },
  {
   "cell_type": "code",
   "execution_count": 6,
   "id": "5b06b048",
   "metadata": {},
   "outputs": [
    {
     "data": {
      "text/plain": [
       "2.3333333333333335"
      ]
     },
     "execution_count": 6,
     "metadata": {},
     "output_type": "execute_result"
    }
   ],
   "source": [
    "a=7\n",
    "b=3\n",
    "a/b\n"
   ]
  },
  {
   "cell_type": "code",
   "execution_count": 7,
   "id": "2fe2ffb3",
   "metadata": {},
   "outputs": [
    {
     "data": {
      "text/plain": [
       "-3"
      ]
     },
     "execution_count": 7,
     "metadata": {},
     "output_type": "execute_result"
    }
   ],
   "source": [
    "-7//3"
   ]
  },
  {
   "cell_type": "code",
   "execution_count": 8,
   "id": "ee47cfbf",
   "metadata": {},
   "outputs": [
    {
     "data": {
      "text/plain": [
       "2.3333333333333335"
      ]
     },
     "execution_count": 8,
     "metadata": {},
     "output_type": "execute_result"
    }
   ],
   "source": [
    "7/3"
   ]
  },
  {
   "cell_type": "code",
   "execution_count": 9,
   "id": "a0945c09",
   "metadata": {},
   "outputs": [
    {
     "data": {
      "text/plain": [
       "-2.3333333333333335"
      ]
     },
     "execution_count": 9,
     "metadata": {},
     "output_type": "execute_result"
    }
   ],
   "source": [
    "-7/3"
   ]
  },
  {
   "cell_type": "code",
   "execution_count": 10,
   "id": "53c9e592",
   "metadata": {},
   "outputs": [
    {
     "data": {
      "text/plain": [
       "2"
      ]
     },
     "execution_count": 10,
     "metadata": {},
     "output_type": "execute_result"
    }
   ],
   "source": [
    "7//3"
   ]
  },
  {
   "cell_type": "code",
   "execution_count": 11,
   "id": "f238b427",
   "metadata": {},
   "outputs": [
    {
     "data": {
      "text/plain": [
       "-4"
      ]
     },
     "execution_count": 11,
     "metadata": {},
     "output_type": "execute_result"
    }
   ],
   "source": [
    "-10//3"
   ]
  },
  {
   "cell_type": "code",
   "execution_count": 12,
   "id": "a7864eae",
   "metadata": {},
   "outputs": [
    {
     "data": {
      "text/plain": [
       "True"
      ]
     },
     "execution_count": 12,
     "metadata": {},
     "output_type": "execute_result"
    }
   ],
   "source": [
    "#comparison operator gives boolean answer.\n",
    "2!=5"
   ]
  },
  {
   "cell_type": "code",
   "execution_count": 13,
   "id": "6a3b0411",
   "metadata": {},
   "outputs": [
    {
     "data": {
      "text/plain": [
       "False"
      ]
     },
     "execution_count": 13,
     "metadata": {},
     "output_type": "execute_result"
    }
   ],
   "source": [
    "2>5"
   ]
  },
  {
   "cell_type": "code",
   "execution_count": 14,
   "id": "f3eedac7",
   "metadata": {},
   "outputs": [
    {
     "data": {
      "text/plain": [
       "True"
      ]
     },
     "execution_count": 14,
     "metadata": {},
     "output_type": "execute_result"
    }
   ],
   "source": [
    "2<5"
   ]
  },
  {
   "cell_type": "code",
   "execution_count": 15,
   "id": "348ccaeb",
   "metadata": {},
   "outputs": [
    {
     "data": {
      "text/plain": [
       "True"
      ]
     },
     "execution_count": 15,
     "metadata": {},
     "output_type": "execute_result"
    }
   ],
   "source": [
    "True or False "
   ]
  },
  {
   "cell_type": "code",
   "execution_count": 16,
   "id": "a75207ea",
   "metadata": {},
   "outputs": [
    {
     "data": {
      "text/plain": [
       "False"
      ]
     },
     "execution_count": 16,
     "metadata": {},
     "output_type": "execute_result"
    }
   ],
   "source": [
    "True and False"
   ]
  },
  {
   "cell_type": "code",
   "execution_count": 17,
   "id": "fb2d7d5e",
   "metadata": {},
   "outputs": [
    {
     "data": {
      "text/plain": [
       "False"
      ]
     },
     "execution_count": 17,
     "metadata": {},
     "output_type": "execute_result"
    }
   ],
   "source": [
    "not True"
   ]
  },
  {
   "cell_type": "code",
   "execution_count": 18,
   "id": "9e735ab2",
   "metadata": {},
   "outputs": [
    {
     "data": {
      "text/plain": [
       "False"
      ]
     },
     "execution_count": 18,
     "metadata": {},
     "output_type": "execute_result"
    }
   ],
   "source": [
    "5!=5"
   ]
  },
  {
   "cell_type": "code",
   "execution_count": 20,
   "id": "3316ba4a",
   "metadata": {},
   "outputs": [
    {
     "name": "stdout",
     "output_type": "stream",
     "text": [
      "Enter your name DAMMIE\n",
      "Hello  DAMMIE\n"
     ]
    }
   ],
   "source": [
    "#use to let the user enter a number/ command/ question\n",
    "#input ()\n",
    "name=input(\"Enter your name \")\n",
    "print(\"Hello \",name)"
   ]
  },
  {
   "cell_type": "code",
   "execution_count": 29,
   "id": "42b2974b",
   "metadata": {},
   "outputs": [
    {
     "name": "stdout",
     "output_type": "stream",
     "text": [
      "10 Dollars\n"
     ]
    }
   ],
   "source": [
    "a=10\n",
    "b=\"Dollars\"\n",
    "\n",
    "print(str(a) +\" \" + b)"
   ]
  },
  {
   "cell_type": "code",
   "execution_count": 33,
   "id": "57964cb7",
   "metadata": {},
   "outputs": [
    {
     "ename": "ValueError",
     "evalue": "could not convert string to float: 'dollars'",
     "output_type": "error",
     "traceback": [
      "\u001b[1;31m---------------------------------------------------------------------------\u001b[0m",
      "\u001b[1;31mValueError\u001b[0m                                Traceback (most recent call last)",
      "Input \u001b[1;32mIn [33]\u001b[0m, in \u001b[0;36m<cell line: 3>\u001b[1;34m()\u001b[0m\n\u001b[0;32m      1\u001b[0m a\u001b[38;5;241m=\u001b[39m\u001b[38;5;241m2.3\u001b[39m\n\u001b[0;32m      2\u001b[0m b\u001b[38;5;241m=\u001b[39m\u001b[38;5;124m\"\u001b[39m\u001b[38;5;124mdollars\u001b[39m\u001b[38;5;124m\"\u001b[39m\n\u001b[1;32m----> 3\u001b[0m \u001b[38;5;28mprint\u001b[39m (a\u001b[38;5;241m+\u001b[39m\u001b[38;5;28;43mfloat\u001b[39;49m\u001b[43m(\u001b[49m\u001b[43mb\u001b[49m\u001b[43m)\u001b[49m)\n",
      "\u001b[1;31mValueError\u001b[0m: could not convert string to float: 'dollars'"
     ]
    }
   ],
   "source": [
    "a=2.3\n",
    "b=\"dollars\"\n",
    "print (a+float(b))"
   ]
  },
  {
   "cell_type": "code",
   "execution_count": 34,
   "id": "e50f3a3c",
   "metadata": {},
   "outputs": [
    {
     "data": {
      "text/plain": [
       "'I like apples'"
      ]
     },
     "execution_count": 34,
     "metadata": {},
     "output_type": "execute_result"
    }
   ],
   "source": [
    "Data=\"I like bananas\"\n",
    "Data.replace(\"bananas\", \"apples\")"
   ]
  },
  {
   "cell_type": "code",
   "execution_count": 36,
   "id": "82462f1c",
   "metadata": {},
   "outputs": [
    {
     "data": {
      "text/plain": [
       "'three three was a race horse, two two was  one too'"
      ]
     },
     "execution_count": 36,
     "metadata": {},
     "output_type": "execute_result"
    }
   ],
   "source": [
    "Data=\"one one was a race horse, two two was  one too\"\n",
    "Data.replace(\"one\",\"three\",2)"
   ]
  },
  {
   "cell_type": "code",
   "execution_count": 38,
   "id": "20f47dc2",
   "metadata": {},
   "outputs": [
    {
     "name": "stdout",
     "output_type": "stream",
     "text": [
      "put the Fahrenheit temperature 45\n",
      "45.0 Fahrenheit in Celsius is 7.222222222222222\n"
     ]
    }
   ],
   "source": [
    "#convert Fahrenheit to Celsius\n",
    "Fa=float(input(\"put the Fahrenheit temperature \")) \n",
    "Clu=(Fa -32)*5/9\n",
    "print(Fa, \"Fahrenheit in Celsius is\", Clu)"
   ]
  },
  {
   "cell_type": "code",
   "execution_count": 2,
   "id": "88aa601e",
   "metadata": {},
   "outputs": [
    {
     "name": "stdout",
     "output_type": "stream",
     "text": [
      "7\n"
     ]
    }
   ],
   "source": [
    "#Len functions: It returns the number of element in an object.\n",
    "#They look for the length of variables, like how many elements.\n",
    "a=(\"Algeria\")\n",
    "print(len(a))"
   ]
  },
  {
   "cell_type": "code",
   "execution_count": 6,
   "id": "11789141",
   "metadata": {},
   "outputs": [
    {
     "name": "stdout",
     "output_type": "stream",
     "text": [
      "regina\n"
     ]
    }
   ],
   "source": [
    "#Max function: it finds the greatest element in a list. \n",
    "#ususlly use in list, can be use for integers and for string not applicable to boolean/\n",
    "#the function works differently in string and integers\n",
    "var=[\"damilola\", \"chinazao\", \"christiana\", \"regina\",\"chioma\", \"agnes\", \"chinazad\", \"chisom\", \"comfort\"]\n",
    "print(max(var))"
   ]
  },
  {
   "cell_type": "code",
   "execution_count": 8,
   "id": "da95b1d0",
   "metadata": {},
   "outputs": [
    {
     "name": "stdout",
     "output_type": "stream",
     "text": [
      "150\n"
     ]
    }
   ],
   "source": [
    "b=[50,140,12,58,25,46,120,147,150,47]\n",
    "print(max(b))"
   ]
  },
  {
   "cell_type": "code",
   "execution_count": 12,
   "id": "913b3897",
   "metadata": {},
   "outputs": [
    {
     "name": "stdout",
     "output_type": "stream",
     "text": [
      "12\n"
     ]
    }
   ],
   "source": [
    "print(min(b))"
   ]
  },
  {
   "cell_type": "code",
   "execution_count": 11,
   "id": "602498d2",
   "metadata": {},
   "outputs": [
    {
     "name": "stdout",
     "output_type": "stream",
     "text": [
      "agnes\n"
     ]
    }
   ],
   "source": [
    "var=[\"damilola\", \"chinazao\", \"christiana\", \"regina\",\"chioma\", \"agnes\", \"chinazad\", \"chisom\", \"comfort\"]\n",
    "print(min(var))"
   ]
  },
  {
   "cell_type": "code",
   "execution_count": 13,
   "id": "b99c5685",
   "metadata": {},
   "outputs": [
    {
     "name": "stdout",
     "output_type": "stream",
     "text": [
      "9\n"
     ]
    }
   ],
   "source": [
    "print(len(var))"
   ]
  },
  {
   "cell_type": "code",
   "execution_count": 14,
   "id": "ea906855",
   "metadata": {},
   "outputs": [
    {
     "name": "stdout",
     "output_type": "stream",
     "text": [
      "[12, 25, 46, 47, 50, 58, 120, 140, 147, 150]\n"
     ]
    }
   ],
   "source": [
    "#sorted: it return a copy of the list from smallest to largest. its's like usin arrange to arrange numbers\n",
    "print(sorted(b))"
   ]
  },
  {
   "cell_type": "code",
   "execution_count": 18,
   "id": "50a94fa5",
   "metadata": {},
   "outputs": [
    {
     "name": "stdout",
     "output_type": "stream",
     "text": [
      "day In data In is In ordered\n"
     ]
    }
   ],
   "source": [
    "#join: It's a string function that takes a list of string as an argument and return that string in split\n",
    "#break our list into element\n",
    "d=\" In \".join([\"day\", \"data\", \"is\", \"ordered\"])\n",
    "print(d)"
   ]
  },
  {
   "cell_type": "code",
   "execution_count": 20,
   "id": "72f7ed50",
   "metadata": {},
   "outputs": [
    {
     "name": "stdout",
     "output_type": "stream",
     "text": [
      "day-data-is-ordered\n"
     ]
    }
   ],
   "source": [
    "x=\"-\".join([\"day\", \"data\", \"is\", \"ordered\"])\n",
    "print(x)"
   ]
  },
  {
   "cell_type": "code",
   "execution_count": 35,
   "id": "9d895db9",
   "metadata": {},
   "outputs": [
    {
     "data": {
      "text/plain": [
       "['nig', 'gha', 'eng', 'togo']"
      ]
     },
     "execution_count": 35,
     "metadata": {},
     "output_type": "execute_result"
    }
   ],
   "source": [
    "#Append: to add an element to the end of a list.\n",
    "count = [\"nig\", \"gha\", \"eng\"]\n",
    "count.append(\"togo\")\n",
    "count"
   ]
  },
  {
   "cell_type": "code",
   "execution_count": 33,
   "id": "9184a1eb",
   "metadata": {},
   "outputs": [
    {
     "name": "stdout",
     "output_type": "stream",
     "text": [
      "['nig', 'gha', 'eng', 'usa']\n"
     ]
    }
   ],
   "source": [
    "country= [\"nig\", \"gha\", \"eng\", \"usa\"]\n",
    "country + [\"porto\"]\n",
    "print(country)"
   ]
  },
  {
   "cell_type": "code",
   "execution_count": 45,
   "id": "a48e1ba3",
   "metadata": {},
   "outputs": [
    {
     "ename": "AttributeError",
     "evalue": "'tuple' object has no attribute 'upper'",
     "output_type": "error",
     "traceback": [
      "\u001b[1;31m---------------------------------------------------------------------------\u001b[0m",
      "\u001b[1;31mAttributeError\u001b[0m                            Traceback (most recent call last)",
      "Input \u001b[1;32mIn [45]\u001b[0m, in \u001b[0;36m<cell line: 3>\u001b[1;34m()\u001b[0m\n\u001b[0;32m      1\u001b[0m \u001b[38;5;66;03m#to capitalize the element\u001b[39;00m\n\u001b[0;32m      2\u001b[0m count \u001b[38;5;241m=\u001b[39m \u001b[38;5;124m\"\u001b[39m\u001b[38;5;124mnig\u001b[39m\u001b[38;5;124m\"\u001b[39m, \u001b[38;5;124m\"\u001b[39m\u001b[38;5;124mgha\u001b[39m\u001b[38;5;124m\"\u001b[39m, \u001b[38;5;124m\"\u001b[39m\u001b[38;5;124meng\u001b[39m\u001b[38;5;124m\"\u001b[39m\n\u001b[1;32m----> 3\u001b[0m \u001b[43mcount\u001b[49m\u001b[38;5;241;43m.\u001b[39;49m\u001b[43mupper\u001b[49m()\n",
      "\u001b[1;31mAttributeError\u001b[0m: 'tuple' object has no attribute 'upper'"
     ]
    }
   ],
   "source": [
    "#to capitalize the element\n",
    "count = \"nig\", \"gha\", \"eng\"\n",
    "count.upper()\n",
    "#print(capitalize(count))"
   ]
  },
  {
   "cell_type": "code",
   "execution_count": 42,
   "id": "a4eed87e",
   "metadata": {},
   "outputs": [
    {
     "data": {
      "text/plain": [
       "'PINEAPPLE'"
      ]
     },
     "execution_count": 42,
     "metadata": {},
     "output_type": "execute_result"
    }
   ],
   "source": [
    "p=\"pineapple\"\n",
    "p.upper()"
   ]
  },
  {
   "cell_type": "code",
   "execution_count": 50,
   "id": "b5164121",
   "metadata": {},
   "outputs": [
    {
     "ename": "NameError",
     "evalue": "name 'capitalize' is not defined",
     "output_type": "error",
     "traceback": [
      "\u001b[1;31m---------------------------------------------------------------------------\u001b[0m",
      "\u001b[1;31mNameError\u001b[0m                                 Traceback (most recent call last)",
      "Input \u001b[1;32mIn [50]\u001b[0m, in \u001b[0;36m<cell line: 2>\u001b[1;34m()\u001b[0m\n\u001b[0;32m      1\u001b[0m u\u001b[38;5;241m=\u001b[39m\u001b[38;5;124m\"\u001b[39m\u001b[38;5;124muniversity\u001b[39m\u001b[38;5;124m\"\u001b[39m\n\u001b[1;32m----> 2\u001b[0m \u001b[38;5;28mprint\u001b[39m(\u001b[43mcapitalize\u001b[49m(u))\n",
      "\u001b[1;31mNameError\u001b[0m: name 'capitalize' is not defined"
     ]
    }
   ],
   "source": [
    "u=\"university\"\n",
    "print(capitalize(u))"
   ]
  },
  {
   "cell_type": "code",
   "execution_count": 52,
   "id": "acd1e099",
   "metadata": {},
   "outputs": [
    {
     "name": "stdout",
     "output_type": "stream",
     "text": [
      "maria likes dog and food\n"
     ]
    }
   ],
   "source": [
    "#Format: it is use to link strings together\n",
    "maria=\"maria likes {} and {}\"\n",
    "print(maria.format(\"dog\", \"food\"))\n"
   ]
  },
  {
   "cell_type": "code",
   "execution_count": null,
   "id": "ba38564c",
   "metadata": {},
   "outputs": [],
   "source": []
  }
 ],
 "metadata": {
  "kernelspec": {
   "display_name": "Python 3 (ipykernel)",
   "language": "python",
   "name": "python3"
  },
  "language_info": {
   "codemirror_mode": {
    "name": "ipython",
    "version": 3
   },
   "file_extension": ".py",
   "mimetype": "text/x-python",
   "name": "python",
   "nbconvert_exporter": "python",
   "pygments_lexer": "ipython3",
   "version": "3.9.12"
  }
 },
 "nbformat": 4,
 "nbformat_minor": 5
}
