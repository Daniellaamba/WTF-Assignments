{
 "cells": [
  {
   "cell_type": "code",
   "execution_count": 1,
   "metadata": {},
   "outputs": [],
   "source": [
    "#creating a function\n",
    "def my_computer():\n",
    "    print(\"i am a girl\")"
   ]
  },
  {
   "cell_type": "code",
   "execution_count": 2,
   "metadata": {
    "scrolled": true
   },
   "outputs": [
    {
     "name": "stdout",
     "output_type": "stream",
     "text": [
      "i am a girl\n"
     ]
    }
   ],
   "source": [
    "#calling function\n",
    "my_computer()"
   ]
  },
  {
   "cell_type": "code",
   "execution_count": 3,
   "metadata": {
    "scrolled": true
   },
   "outputs": [
    {
     "name": "stdout",
     "output_type": "stream",
     "text": [
      "Ayolagos\n",
      "Tobilagos\n"
     ]
    }
   ],
   "source": [
    "#Passing Arugment into a function \n",
    "def my_function(name):\n",
    "    print(name + \"lagos\")\n",
    "my_function(\"Ayo\")\n",
    "my_function(\"Tobi\")"
   ]
  },
  {
   "cell_type": "raw",
   "metadata": {},
   "source": [
    "Arugment is the value that is sent to a function when it is called   \n"
   ]
  },
  {
   "cell_type": "code",
   "execution_count": 16,
   "metadata": {},
   "outputs": [
    {
     "name": "stdout",
     "output_type": "stream",
     "text": [
      "my favorite animal is dog\n",
      "my favorite animal is cat\n",
      "my favorite animal is lion\n"
     ]
    }
   ],
   "source": [
    "def my_function (animals):\n",
    "    for y in animals:\n",
    "        print(\"my favorite animal is \" + y )\n",
    "animals = [\"dog\", \"cat\", \"lion\"]\n",
    "my_function(animals)"
   ]
  },
  {
   "cell_type": "code",
   "execution_count": 10,
   "metadata": {},
   "outputs": [
    {
     "name": "stdout",
     "output_type": "stream",
     "text": [
      "dog\n",
      "cat\n",
      "lion\n"
     ]
    }
   ],
   "source": [
    "def my_function (animals):\n",
    "    for y in animals:\n",
    "        print(y)\n",
    "animals = [\"dog\", \"cat\", \"lion\"]\n",
    "my_function(animals)"
   ]
  },
  {
   "cell_type": "code",
   "execution_count": 8,
   "metadata": {},
   "outputs": [
    {
     "name": "stdout",
     "output_type": "stream",
     "text": [
      "topesurname\n"
     ]
    }
   ],
   "source": [
    "#Number of Arguments\n",
    "def my_function(name, surname):\n",
    "    print(name+ \"\" + surname)\n",
    "my_function(\"tope\", \"surname\")"
   ]
  },
  {
   "cell_type": "code",
   "execution_count": 9,
   "metadata": {},
   "outputs": [
    {
     "name": "stdout",
     "output_type": "stream",
     "text": [
      "The best is color oneblack\n"
     ]
    }
   ],
   "source": [
    "#Keyword Argumenmt \n",
    "def my_function(color1, color2, color3):\n",
    "    print(\"The best is color one\" + color1)\n",
    "my_function(color1 = \"black\", color2 = \"White\", color3 =\"Blue\")"
   ]
  },
  {
   "cell_type": "code",
   "execution_count": 19,
   "metadata": {},
   "outputs": [
    {
     "name": "stdout",
     "output_type": "stream",
     "text": [
      "key: a value: 1\n",
      "key: b value: 2\n",
      "key: c value: 3\n"
     ]
    }
   ],
   "source": [
    "def my_function (d):\n",
    "    for  key in d:\n",
    "        print(\"key:\", key, \"value:\", d[key])\n",
    "ans = {\"a\":1, \"b\":2, \"c\":3}\n",
    "my_function(ans)"
   ]
  },
  {
   "cell_type": "code",
   "execution_count": null,
   "metadata": {},
   "outputs": [],
   "source": []
  },
  {
   "cell_type": "code",
   "execution_count": null,
   "metadata": {},
   "outputs": [],
   "source": []
  },
  {
   "cell_type": "code",
   "execution_count": null,
   "metadata": {},
   "outputs": [],
   "source": []
  }
 ],
 "metadata": {
  "kernelspec": {
   "display_name": "Python 3",
   "language": "python",
   "name": "python3"
  },
  "language_info": {
   "codemirror_mode": {
    "name": "ipython",
    "version": 3
   },
   "file_extension": ".py",
   "mimetype": "text/x-python",
   "name": "python",
   "nbconvert_exporter": "python",
   "pygments_lexer": "ipython3",
   "version": "3.7.4"
  }
 },
 "nbformat": 4,
 "nbformat_minor": 5
}
